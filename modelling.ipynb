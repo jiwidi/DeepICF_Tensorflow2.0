{
 "cells": [
  {
   "cell_type": "code",
   "execution_count": 1,
   "metadata": {},
   "outputs": [],
   "source": [
    "import pandas as pd\n",
    "import numpy as np\n",
    "import tensorflow as tf\n",
    "import matplotlib.pyplot as plt"
   ]
  },
  {
   "cell_type": "markdown",
   "metadata": {},
   "source": [
    "## Custom layer"
   ]
  },
  {
   "cell_type": "code",
   "execution_count": 36,
   "metadata": {},
   "outputs": [],
   "source": [
    "class GetEmbeddings(tf.keras.layers.Layer):\n",
    "    def __init__(self, num_buckets=None, embedding_size=None,*args, **kwargs):\n",
    "        super(GetEmbeddings, self).__init__(*args, **kwargs)\n",
    "\n",
    "        #self.shape = compute_output_shape\n",
    "    \n",
    "    def build(self, input_shape):\n",
    "        self.embedding = tf.constant([[1,1,1,1],[2,2,2,2],[3,3,3,3],[4,4,4,4]]) # Embedding matrix\n",
    "    \n",
    "    def call(self, input):\n",
    "        user = input[0]\n",
    "        movie = input[1]\n",
    "        # Expand user to get it to a matrix of 1 and zeros instead\n",
    "        user = tf.expand_dims(user, 2)\n",
    "        user = tf.tile(user, [1,1, 4])\n",
    "        # check equality of array in t1 for each array in t2 element by element. This is possible because the equal function supports broadcasting. \n",
    "        equal =  tf.math.equal(tf.constant([1,1,1,1]), user)\n",
    "        # checking if all elements from  t1 match for all elements of some array in t2\n",
    "        equal_all = tf.reduce_all(equal, axis=2)\n",
    "        user_embeddings = self.embedding * user \n",
    "        # Get embeddings for the users based upon the movies he/she watched\n",
    "        # Expand the movie first\n",
    "        movies = tf.expand_dims(movie,2)\n",
    "        movies = tf.tile(movies, [1,1, 4])\n",
    "        # Get the embeddings\n",
    "        movie_embeddings = self.embedding * movies\n",
    "        # Only want the movies with values\n",
    "        equal_movie =  tf.math.not_equal(tf.constant([0,0,0,0]), movie_embeddings)\n",
    "        equal_all_movie = tf.reduce_all(equal, axis=1)\n",
    "        # Get the indicies where we have a movie\n",
    "        indices = tf.where(equal_movie)\n",
    "        # In order to to the pointwise multiplication I need to have the same shape so expand\n",
    "        out = tf.reshape(tf.gather_nd(movie_embeddings,indices),shape=(2,1,4))\n",
    "        out = tf.tile(out,multiples=[1,4,1])\n",
    "        # Point wise multiplication, each movie the user watched multiplied with this movie\n",
    "        output = tf.math.multiply(out,user_embeddings)\n",
    "        lenght =  tf.reduce_sum(tf.cast(equal_all, tf.float32),axis=1)\n",
    "        mean = tf.reduce_sum(tf.cast(output,dtype=tf.float32),axis=1) / tf.reshape(lenght, (-1, 1))\n",
    "        return mean"
   ]
  },
  {
   "cell_type": "markdown",
   "metadata": {},
   "source": [
    "## Custom layer with dense layer connected"
   ]
  },
  {
   "cell_type": "code",
   "execution_count": 37,
   "metadata": {},
   "outputs": [
    {
     "data": {
      "text/plain": [
       "<tf.Tensor: id=391, shape=(2, 10), dtype=float32, numpy=\n",
       "array([[-3.894199  ,  3.2690303 ,  0.59810704,  3.0813684 ,  4.522706  ,\n",
       "         1.7911937 ,  0.41366446, -2.7639642 , -3.5591567 , -3.6254656 ],\n",
       "       [-6.2307177 ,  5.2304487 ,  0.95697117,  4.930189  ,  7.236329  ,\n",
       "         2.86591   ,  0.6618632 , -4.4223423 , -5.6946507 , -5.800745  ]],\n",
       "      dtype=float32)>"
      ]
     },
     "execution_count": 37,
     "metadata": {},
     "output_type": "execute_result"
    }
   ],
   "source": [
    "my_seq = tf.keras.Sequential([GetEmbeddings(),\n",
    "                             tf.keras.layers.Dense(10)])\n",
    "my_seq([user,movies])"
   ]
  }
 ],
 "metadata": {
  "kernelspec": {
   "display_name": "Python 3",
   "language": "python",
   "name": "python3"
  },
  "language_info": {
   "codemirror_mode": {
    "name": "ipython",
    "version": 3
   },
   "file_extension": ".py",
   "mimetype": "text/x-python",
   "name": "python",
   "nbconvert_exporter": "python",
   "pygments_lexer": "ipython3",
   "version": "3.7.3"
  }
 },
 "nbformat": 4,
 "nbformat_minor": 2
}
