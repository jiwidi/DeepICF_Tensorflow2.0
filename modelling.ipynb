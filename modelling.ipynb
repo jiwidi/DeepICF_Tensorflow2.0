{
 "cells": [
  {
   "cell_type": "code",
   "execution_count": 195,
   "metadata": {},
   "outputs": [],
   "source": [
    "from model.model import *\n",
    "import pandas as pd\n",
    "import numpy as np\n",
    "import tensorflow as tf\n",
    "import matplotlib.pyplot as plt"
   ]
  },
  {
   "cell_type": "code",
   "execution_count": 192,
   "metadata": {},
   "outputs": [],
   "source": [
    "df = pd.read_csv(\"data/ml-1m/movielens.test.negative\")"
   ]
  },
  {
   "cell_type": "code",
   "execution_count": 197,
   "metadata": {},
   "outputs": [
    {
     "data": {
      "text/html": [
       "<div>\n",
       "<style scoped>\n",
       "    .dataframe tbody tr th:only-of-type {\n",
       "        vertical-align: middle;\n",
       "    }\n",
       "\n",
       "    .dataframe tbody tr th {\n",
       "        vertical-align: top;\n",
       "    }\n",
       "\n",
       "    .dataframe thead th {\n",
       "        text-align: right;\n",
       "    }\n",
       "</style>\n",
       "<table border=\"1\" class=\"dataframe\">\n",
       "  <thead>\n",
       "    <tr style=\"text-align: right;\">\n",
       "      <th></th>\n",
       "      <th>movieID</th>\n",
       "      <th>rating</th>\n",
       "      <th>timestamp</th>\n",
       "      <th>userID</th>\n",
       "    </tr>\n",
       "  </thead>\n",
       "  <tbody>\n",
       "    <tr>\n",
       "      <th>0</th>\n",
       "      <td>2485</td>\n",
       "      <td>0</td>\n",
       "      <td>NaN</td>\n",
       "      <td>3982</td>\n",
       "    </tr>\n",
       "    <tr>\n",
       "      <th>1</th>\n",
       "      <td>541</td>\n",
       "      <td>1</td>\n",
       "      <td>960935593.0</td>\n",
       "      <td>5307</td>\n",
       "    </tr>\n",
       "    <tr>\n",
       "      <th>2</th>\n",
       "      <td>1699</td>\n",
       "      <td>0</td>\n",
       "      <td>NaN</td>\n",
       "      <td>204</td>\n",
       "    </tr>\n",
       "    <tr>\n",
       "      <th>3</th>\n",
       "      <td>3079</td>\n",
       "      <td>1</td>\n",
       "      <td>974654075.0</td>\n",
       "      <td>2264</td>\n",
       "    </tr>\n",
       "    <tr>\n",
       "      <th>4</th>\n",
       "      <td>3687</td>\n",
       "      <td>0</td>\n",
       "      <td>NaN</td>\n",
       "      <td>2553</td>\n",
       "    </tr>\n",
       "  </tbody>\n",
       "</table>\n",
       "</div>"
      ],
      "text/plain": [
       "   movieID  rating    timestamp  userID\n",
       "0     2485       0          NaN    3982\n",
       "1      541       1  960935593.0    5307\n",
       "2     1699       0          NaN     204\n",
       "3     3079       1  974654075.0    2264\n",
       "4     3687       0          NaN    2553"
      ]
     },
     "execution_count": 197,
     "metadata": {},
     "output_type": "execute_result"
    }
   ],
   "source": [
    "df.head()"
   ]
  },
  {
   "cell_type": "code",
   "execution_count": 44,
   "metadata": {},
   "outputs": [],
   "source": [
    "def df_to_dataset(dataframe, shuffle=True, batch_size=32,label=\"rating\"):\n",
    "  dataframe = dataframe.copy()\n",
    "  _ = dataframe.pop(\"timestamp\")\n",
    "  labels = dataframe.pop('rating')\n",
    "  ds = tf.data.Dataset.from_tensor_slices((dict(dataframe), labels))\n",
    "  if shuffle:\n",
    "    ds = ds.shuffle(buffer_size=len(dataframe))\n",
    "  ds = ds.batch(batch_size)\n",
    "  return ds"
   ]
  },
  {
   "cell_type": "code",
   "execution_count": 45,
   "metadata": {},
   "outputs": [
    {
     "name": "stdout",
     "output_type": "stream",
     "text": [
      "Every feature: ['movieID', 'userID']\n",
      "Movieid: tf.Tensor([589 617], shape=(2,), dtype=int32)\n",
      "A batch of targets: tf.Tensor([0 0], shape=(2,), dtype=int32)\n"
     ]
    }
   ],
   "source": [
    "train_ds = df_to_dataset(df, batch_size=2)\n",
    "for feature_batch, label_batch in train_ds.take(1):\n",
    "  print('Every feature:', list(feature_batch.keys()))\n",
    "  print('Movieid:', feature_batch['movieID'])\n",
    "  print('A batch of targets:', label_batch )"
   ]
  },
  {
   "cell_type": "markdown",
   "metadata": {},
   "source": [
    "## Example - raw"
   ]
  },
  {
   "cell_type": "code",
   "execution_count": null,
   "metadata": {},
   "outputs": [],
   "source": [
    "user = tf.ragged.constant([[\"hej\",\"hej\",\"hej\"]]\n",
    "                         ) # Input movies, string in this case \n",
    "\n",
    "item = tf.ragged.constant([[\"hej\"]]) \n",
    "\n",
    "# Create an embedding table.\n",
    "num_buckets = 10 # number of movies....\n",
    "embedding_size = 4 # embedding size\n",
    "\n",
    "ans = tf.keras.initializers.TruncatedNormal() # Initialization the embeddings \n",
    "embedding_table = tf.Variable(ans([num_buckets, embedding_size])) # Embedding table \n",
    "\n",
    "# Look up the embedding for each word.\n",
    "user_buckets = tf.strings.to_hash_bucket_fast(user, num_buckets)\n",
    "user_embeddings = tf.ragged.map_flat_values(\n",
    "    tf.nn.embedding_lookup, embedding_table, user_buckets)\n",
    "item_bucket = tf.strings.to_hash_bucket_fast(item, num_buckets)\n",
    "item_embedding = tf.ragged.map_flat_values(\n",
    "    tf.nn.embedding_lookup, embedding_table, item_bucket) "
   ]
  },
  {
   "cell_type": "markdown",
   "metadata": {},
   "source": [
    "## Go Go Go class"
   ]
  },
  {
   "cell_type": "code",
   "execution_count": 246,
   "metadata": {},
   "outputs": [],
   "source": [
    "class GetEmbeddings(tf.keras.layers.Layer):\n",
    "\n",
    "    def __init__(self, num_buckets=None, embedding_size=None):\n",
    "        super(GetEmbeddings, self).__init__()\n",
    "        self.num_buckets = num_buckets\n",
    "        self.embedding_size = embedding_size\n",
    "    \n",
    "    def build(self, input_shape):\n",
    "        pass\n",
    "    \n",
    "    def call(self, item, user):\n",
    "        \"\"\"Lets do it here ........\"\"\"\n",
    "        initiator = tf.keras.initializers.TruncatedNormal() # Initialization the embeddings \n",
    "        embedding_table = tf.Variable(initiator([self.num_buckets, self.embedding_size])) # Embedding table \n",
    "        # Look up the embedding for each word.\n",
    "        user_buckets = tf.strings.to_hash_bucket_fast(user, self.num_buckets)\n",
    "        user_embeddings = tf.ragged.map_flat_values(\n",
    "            tf.nn.embedding_lookup, embedding_table, user_buckets)\n",
    "        item_bucket = tf.strings.to_hash_bucket_fast(item, self.num_buckets)\n",
    "        item_embedding = tf.ragged.map_flat_values(\n",
    "            tf.nn.embedding_lookup, embedding_table, item_bucket)\n",
    "        output = tf.math.multiply(item_embedding[0],user_embeddings)\n",
    "        output = tf.reduce_mean(out,axis=0)\n",
    "        return output"
   ]
  },
  {
   "cell_type": "code",
   "execution_count": 247,
   "metadata": {},
   "outputs": [
    {
     "data": {
      "text/plain": [
       "<tf.Tensor: id=24841, shape=(4,), dtype=float32, numpy=\n",
       "array([8.3136437e-03, 2.0645888e-05, 2.8431609e-03, 4.3349504e-03],\n",
       "      dtype=float32)>"
      ]
     },
     "execution_count": 247,
     "metadata": {},
     "output_type": "execute_result"
    }
   ],
   "source": [
    "layer = GetEmbeddings(10,4)\n",
    "user = tf.ragged.constant([[\"hej\",\"hej\",\"hej\"]]) # Input movies, string in this case \n",
    "item = tf.ragged.constant([[\"hej\"]]) \n",
    "layer(item,user)\n"
   ]
  },
  {
   "cell_type": "code",
   "execution_count": null,
   "metadata": {},
   "outputs": [],
   "source": []
  }
 ],
 "metadata": {
  "kernelspec": {
   "display_name": "Python 3",
   "language": "python",
   "name": "python3"
  },
  "language_info": {
   "codemirror_mode": {
    "name": "ipython",
    "version": 3
   },
   "file_extension": ".py",
   "mimetype": "text/x-python",
   "name": "python",
   "nbconvert_exporter": "python",
   "pygments_lexer": "ipython3",
   "version": "3.7.3"
  }
 },
 "nbformat": 4,
 "nbformat_minor": 2
}
